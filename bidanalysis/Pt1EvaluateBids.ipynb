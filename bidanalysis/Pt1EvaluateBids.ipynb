{
 "cells": [
  {
   "cell_type": "code",
   "execution_count": 30,
   "id": "e90287ba",
   "metadata": {},
   "outputs": [],
   "source": [
    "import pandas as pd\n",
    "import numpy as np\n",
    "import math\n"
   ]
  },
  {
   "cell_type": "code",
   "execution_count": 31,
   "id": "eb7cd992",
   "metadata": {},
   "outputs": [],
   "source": [
    "# read in data\n",
    "bids = pd.read_csv('bid_data_wo_me.csv')\n",
    "bids.columns = [f\"v_{i}\" for i in range(10,101,10)]\n",
    "my_bids = [9,11,11,21,21,31,31,41,41,51]\n",
    "# my_bids = [9,11,21,31,41,51,61,71,81,91]"
   ]
  },
  {
   "cell_type": "code",
   "execution_count": 3,
   "id": "42f35835",
   "metadata": {},
   "outputs": [
    {
     "data": {
      "text/html": [
       "<div>\n",
       "<style scoped>\n",
       "    .dataframe tbody tr th:only-of-type {\n",
       "        vertical-align: middle;\n",
       "    }\n",
       "\n",
       "    .dataframe tbody tr th {\n",
       "        vertical-align: top;\n",
       "    }\n",
       "\n",
       "    .dataframe thead th {\n",
       "        text-align: right;\n",
       "    }\n",
       "</style>\n",
       "<table border=\"1\" class=\"dataframe\">\n",
       "  <thead>\n",
       "    <tr style=\"text-align: right;\">\n",
       "      <th></th>\n",
       "      <th>v_10</th>\n",
       "      <th>v_20</th>\n",
       "      <th>v_30</th>\n",
       "      <th>v_40</th>\n",
       "      <th>v_50</th>\n",
       "      <th>v_60</th>\n",
       "      <th>v_70</th>\n",
       "      <th>v_80</th>\n",
       "      <th>v_90</th>\n",
       "      <th>v_100</th>\n",
       "    </tr>\n",
       "  </thead>\n",
       "  <tbody>\n",
       "    <tr>\n",
       "      <th>0</th>\n",
       "      <td>5.0</td>\n",
       "      <td>15.0</td>\n",
       "      <td>20.0</td>\n",
       "      <td>30.0</td>\n",
       "      <td>35.0</td>\n",
       "      <td>45.0</td>\n",
       "      <td>60.0</td>\n",
       "      <td>60.0</td>\n",
       "      <td>70.0</td>\n",
       "      <td>80.0</td>\n",
       "    </tr>\n",
       "    <tr>\n",
       "      <th>1</th>\n",
       "      <td>5.0</td>\n",
       "      <td>10.0</td>\n",
       "      <td>15.0</td>\n",
       "      <td>20.0</td>\n",
       "      <td>25.0</td>\n",
       "      <td>30.0</td>\n",
       "      <td>35.0</td>\n",
       "      <td>40.0</td>\n",
       "      <td>45.0</td>\n",
       "      <td>50.0</td>\n",
       "    </tr>\n",
       "    <tr>\n",
       "      <th>2</th>\n",
       "      <td>10.0</td>\n",
       "      <td>20.0</td>\n",
       "      <td>30.0</td>\n",
       "      <td>40.0</td>\n",
       "      <td>50.0</td>\n",
       "      <td>60.0</td>\n",
       "      <td>70.0</td>\n",
       "      <td>80.0</td>\n",
       "      <td>90.0</td>\n",
       "      <td>100.0</td>\n",
       "    </tr>\n",
       "    <tr>\n",
       "      <th>3</th>\n",
       "      <td>5.0</td>\n",
       "      <td>10.0</td>\n",
       "      <td>15.0</td>\n",
       "      <td>20.0</td>\n",
       "      <td>25.0</td>\n",
       "      <td>30.0</td>\n",
       "      <td>35.0</td>\n",
       "      <td>40.0</td>\n",
       "      <td>45.0</td>\n",
       "      <td>50.0</td>\n",
       "    </tr>\n",
       "    <tr>\n",
       "      <th>4</th>\n",
       "      <td>5.0</td>\n",
       "      <td>10.0</td>\n",
       "      <td>20.0</td>\n",
       "      <td>30.0</td>\n",
       "      <td>40.0</td>\n",
       "      <td>50.0</td>\n",
       "      <td>60.0</td>\n",
       "      <td>70.0</td>\n",
       "      <td>80.0</td>\n",
       "      <td>90.0</td>\n",
       "    </tr>\n",
       "  </tbody>\n",
       "</table>\n",
       "</div>"
      ],
      "text/plain": [
       "   v_10  v_20  v_30  v_40  v_50  v_60  v_70  v_80  v_90  v_100\n",
       "0   5.0  15.0  20.0  30.0  35.0  45.0  60.0  60.0  70.0   80.0\n",
       "1   5.0  10.0  15.0  20.0  25.0  30.0  35.0  40.0  45.0   50.0\n",
       "2  10.0  20.0  30.0  40.0  50.0  60.0  70.0  80.0  90.0  100.0\n",
       "3   5.0  10.0  15.0  20.0  25.0  30.0  35.0  40.0  45.0   50.0\n",
       "4   5.0  10.0  20.0  30.0  40.0  50.0  60.0  70.0  80.0   90.0"
      ]
     },
     "execution_count": 3,
     "metadata": {},
     "output_type": "execute_result"
    }
   ],
   "source": [
    "bids.head()"
   ]
  },
  {
   "cell_type": "markdown",
   "id": "69fdf76a",
   "metadata": {},
   "source": [
    "# Part 1\n",
    "## 1 Calculate your winning probability and expected utility with your bids submitted in Ex 1.2 for each of your values."
   ]
  },
  {
   "cell_type": "markdown",
   "id": "6c7d424d",
   "metadata": {},
   "source": [
    "Event $W_v$ = prob the bid for my value v wins the auction\n",
    "$$\n",
    "Pr(W_v) = \\frac{|mybid > allbids|}{|allbids|} \\forall v \\in [10...100]\n",
    "$$\n",
    "coinflip on mybid == otherbid"
   ]
  },
  {
   "cell_type": "code",
   "execution_count": 51,
   "id": "b815f828",
   "metadata": {},
   "outputs": [],
   "source": [
    "# my_bids = [9,11,11,21,21,31,31,41,41,51]\n",
    "my_bids = [10,11,21,31,41,51,61,71,81,91]"
   ]
  },
  {
   "cell_type": "code",
   "execution_count": 52,
   "id": "0a432cf6",
   "metadata": {},
   "outputs": [
    {
     "data": {
      "text/plain": [
       "[0.111, 0.1768, 0.3049, 0.4293, 0.5561, 0.6744, 0.8012, 0.8671, 0.9232, 0.9756]"
      ]
     },
     "execution_count": 52,
     "metadata": {},
     "output_type": "execute_result"
    }
   ],
   "source": [
    "# calculating percentage wins for my bids (if equal then i win)\n",
    "tot_bids = bids.count().sum()\n",
    "my_bids_win_rate = [0]*10\n",
    "for i, my_bid in enumerate(my_bids):\n",
    "    strictlywin = (bids < my_bid).sum().sum()\n",
    "    # should i math.floor the below?\n",
    "    tiewins = (bids == my_bid).sum().sum() * 0.5\n",
    "    \n",
    "    my_bids_win_rate[i] = round((strictlywin + tiewins)/ tot_bids, 4)\n",
    "my_bids_win_rate"
   ]
  },
  {
   "cell_type": "markdown",
   "id": "00679447",
   "metadata": {},
   "source": [
    "note, with coinflip for bid ties, overall slightly lower win rate (makes sense)"
   ]
  },
  {
   "cell_type": "markdown",
   "id": "344a6f4a",
   "metadata": {},
   "source": [
    "Expected utility for bid for each value is prob of that bid winning and the profit for such value and bid\n",
    "$$\n",
    "E[U_v] = Pr(w_v)*(v - b_v)\n",
    "$$"
   ]
  },
  {
   "cell_type": "code",
   "execution_count": 53,
   "id": "fc09d152",
   "metadata": {},
   "outputs": [
    {
     "data": {
      "text/plain": [
       "[0.0, 1.5912, 2.7441, 3.8637, 5.0049, 6.0696, 7.2108, 7.8039, 8.3088, 8.7804]"
      ]
     },
     "execution_count": 53,
     "metadata": {},
     "output_type": "execute_result"
    }
   ],
   "source": [
    "# calc expected utility\n",
    "my_bids_ex_utility = [0]*10\n",
    "for i, my_bid in enumerate(my_bids):\n",
    "    value = (i+1)*10\n",
    "    my_bids_ex_utility[i] = round(my_bids_win_rate[i] * (value - my_bid), 4)\n",
    "my_bids_ex_utility"
   ]
  },
  {
   "cell_type": "markdown",
   "id": "bc290553",
   "metadata": {},
   "source": [
    "### MC Sim"
   ]
  },
  {
   "cell_type": "code",
   "execution_count": 45,
   "id": "f985986d",
   "metadata": {},
   "outputs": [],
   "source": [
    "# my_bids = [9,11,11,21,21,31,31,41,41,51]\n",
    "my_bids = [10,11,21,31,41,51,61,71,81,91]"
   ]
  },
  {
   "cell_type": "code",
   "execution_count": 46,
   "id": "837ba995",
   "metadata": {},
   "outputs": [],
   "source": [
    "def MCSimProbWin(my_bid, bids, niters=100):\n",
    "    bidsmatrix = bids.to_numpy()\n",
    "    onedimbids = bidsmatrix.flatten()\n",
    "    win_count = 0\n",
    "    \n",
    "    for _ in range(niters):\n",
    "        competing_bid = np.random.choice(onedimbids)\n",
    "        if competing_bid < my_bid:\n",
    "            win_count += 1\n",
    "        elif competing_bid == my_bid:\n",
    "            # coin flip\n",
    "            if np.random.randint(0,2) == 0:\n",
    "                win_count += 1\n",
    "#     print(win_count)\n",
    "    return round(win_count/niters, 4)"
   ]
  },
  {
   "cell_type": "code",
   "execution_count": 47,
   "id": "155eefef",
   "metadata": {},
   "outputs": [
    {
     "data": {
      "text/plain": [
       "[0.1105,\n",
       " 0.1835,\n",
       " 0.2982,\n",
       " 0.4314,\n",
       " 0.5457,\n",
       " 0.6868,\n",
       " 0.7989,\n",
       " 0.8655,\n",
       " 0.9236,\n",
       " 0.9757]"
      ]
     },
     "execution_count": 47,
     "metadata": {},
     "output_type": "execute_result"
    }
   ],
   "source": [
    "# by mc sim\n",
    "[MCSimProbWin(b_v, bids, 10000) for b_v in my_bids]"
   ]
  },
  {
   "cell_type": "code",
   "execution_count": 48,
   "id": "96a5e551",
   "metadata": {},
   "outputs": [
    {
     "data": {
      "text/plain": [
       "[10, 11, 21, 31, 41, 51, 61, 71, 81, 91]"
      ]
     },
     "execution_count": 48,
     "metadata": {},
     "output_type": "execute_result"
    }
   ],
   "source": [
    "my_bids"
   ]
  },
  {
   "cell_type": "code",
   "execution_count": 49,
   "id": "a97e0f71",
   "metadata": {},
   "outputs": [],
   "source": [
    "def MCSimEU(my_bid, value, bids, niters=1000):\n",
    "    bidsmatrix = bids.to_numpy()\n",
    "    onedimbids = bidsmatrix.flatten()\n",
    "    totprofit = 0\n",
    "    \n",
    "    for _ in range(niters):\n",
    "        competing_bid = np.random.choice(onedimbids)\n",
    "        if competing_bid < my_bid:\n",
    "            totprofit += value-my_bid\n",
    "        elif competing_bid == my_bid:\n",
    "            # coin flip\n",
    "            if np.random.randint(0,2) == 0:\n",
    "                totprofit += value-my_bid\n",
    "    return round(totprofit/niters, 4)"
   ]
  },
  {
   "cell_type": "code",
   "execution_count": 78,
   "id": "e43e92e5",
   "metadata": {},
   "outputs": [],
   "source": [
    "my_bids = [9,11,11,21,21,31,31,41,41,51]\n",
    "# my_bids = [10,11,21,31,41,51,61,71,81,91]"
   ]
  },
  {
   "cell_type": "code",
   "execution_count": 79,
   "id": "d8f832f6",
   "metadata": {},
   "outputs": [
    {
     "data": {
      "text/plain": [
       "[0.0505,\n",
       " 1.5651,\n",
       " 3.3022,\n",
       " 5.8919,\n",
       " 8.9552,\n",
       " 12.3395,\n",
       " 16.419,\n",
       " 21.7308,\n",
       " 27.5282,\n",
       " 32.9427]"
      ]
     },
     "execution_count": 79,
     "metadata": {},
     "output_type": "execute_result"
    }
   ],
   "source": [
    "# by mc sim\n",
    "[MCSimEU(b_v, (i+1)*10, bids, 10000) for i, b_v in enumerate(my_bids)]"
   ]
  },
  {
   "cell_type": "markdown",
   "id": "51640125",
   "metadata": {},
   "source": [
    "^ quite different from exact calculations. Also not consistent between values, suggests that for some values peoples' bids are more \"rational\" than others?"
   ]
  },
  {
   "cell_type": "markdown",
   "id": "72ad226b",
   "metadata": {},
   "source": [
    "## 2 Calculate the optimal bid which maximizes your expected utility given the distribution of opponent bids.\n",
    "\n",
    "$$\n",
    "OPTbid_v = \\underset{b}{\\operatorname{argmax}} Pr(W_v) * (v-b_v)\n",
    "$$\n",
    "<!-- \\argmax pr(w_v)*(v-b_v)\n",
    "$$ -->\n"
   ]
  },
  {
   "cell_type": "code",
   "execution_count": 10,
   "id": "4e7a772e",
   "metadata": {},
   "outputs": [],
   "source": [
    "# gives best whole integer bid\n",
    "def euargmax(v, bids, granularity=1):\n",
    "    tot_bids = bids.count().sum()\n",
    "    argmaxb = None\n",
    "    curmaxeu = -1\n",
    "    bidrange = np.arange(1,v, granularity)\n",
    "#     print(bidrange)\n",
    "    for b in bidrange:\n",
    "        strictwin = (bids < b).sum().sum()\n",
    "        tiewin = (bids == b).sum().sum() * 0.5\n",
    "        prob_win = (strictwin + tiewin) / tot_bids\n",
    "        gain = v-b\n",
    "        eu = prob_win*gain\n",
    "        if eu > curmaxeu:\n",
    "            curmaxeu = prob_win*gain\n",
    "            argmaxb = b\n",
    "#             print(round(b,3))\n",
    "    return argmaxb,3, curmaxeu"
   ]
  },
  {
   "cell_type": "code",
   "execution_count": 11,
   "id": "590c71d0",
   "metadata": {},
   "outputs": [
    {
     "data": {
      "text/plain": [
       "(5.000099999999559, 3, 0.2073129268292866)"
      ]
     },
     "execution_count": 11,
     "metadata": {},
     "output_type": "execute_result"
    }
   ],
   "source": [
    "euargmax(10, bids, 0.0001)"
   ]
  },
  {
   "cell_type": "code",
   "execution_count": 12,
   "id": "8be79d5b",
   "metadata": {},
   "outputs": [
    {
     "data": {
      "text/plain": [
       "[(5.0000000000000036, 3, 0.20731707317073156),\n",
       " (11.000000000000009, 3, 1.6902439024390228),\n",
       " (11.000000000000009, 3, 3.568292682926828),\n",
       " (21.000000000000018, 3, 5.978048780487799),\n",
       " (21.000000000000018, 3, 9.124390243902434),\n",
       " (31.00000000000003, 3, 12.731707317073159),\n",
       " (31.00000000000003, 3, 17.121951219512184),\n",
       " (41.000000000000036, 3, 22.068292682926806),\n",
       " (41.000000000000036, 3, 27.72682926829266),\n",
       " (51.00000000000004, 3, 33.58292682926827)]"
      ]
     },
     "execution_count": 12,
     "metadata": {},
     "output_type": "execute_result"
    }
   ],
   "source": [
    "# optimal bids\n",
    "[euargmax(v, bids, 0.1) for v in range(10,101,10)]"
   ]
  },
  {
   "cell_type": "markdown",
   "id": "1d8dc122",
   "metadata": {},
   "source": [
    "Interestingly, after accounting for tie situations and having a finer granularity, optimal bid did not change."
   ]
  },
  {
   "cell_type": "markdown",
   "id": "9e171b77",
   "metadata": {},
   "source": [
    "## 3 Compare the utility you obtained to the optimal utility you could have obtained.  Can you conclude anything about a good strategy in this auction?\n",
    "\n",
    "My utility is the same as the optimal utility except for when value = 10. In this case I think it's because people were not playing optimally so they created space for profit even for when value = 10. In the optimal game, a player with value=10 vs another player with v>10 would lose and yield eu=0 and facing an opponent with v=10 would do no better. Either a bid of 10 to yield 0 profit or a bid of 9 in the case of a tie, win 1/2 of $1 profit. It also could be interpreted as for items of low value to bidders, despite knowing that you may have the lowest valuation and most likely would not win against someone else, a low ball offer just might beat someone else's higher lowball offer. When I was working on this, I realized that it was a matter of looking for the greatest utility given the probabilties of winning so doing some rough calculations i was able to get the same optimal strategic bids as the one found emprically. "
   ]
  },
  {
   "cell_type": "markdown",
   "id": "846b68d1",
   "metadata": {},
   "source": [
    "# Part 2\n",
    "Consider devising a bidding algorithm from data.  Suppose you had a small sample of bid data; how would you use this data to devise a good bidding strategy?  How does a good algorithm change with the amount of data you have?  Suppose you have 1 sample?  or 10 samples?  Or what if you have 100 samples?  Evaluate your bidding algorithm using Monte Carlo simulation.\n"
   ]
  },
  {
   "cell_type": "markdown",
   "id": "821e56c8",
   "metadata": {},
   "source": [
    "If we had some data, we can do something similar to what we did in Part 1. With more amounts of data, the better our algorithm can be trained to pinpoint a more precise value at which a bid can win. \n",
    "With 1 sample, it's really a shot at the dark but in reality this may be the case. For instance I'm taking a course in the kellogg real estate department and strip malls in distress for example may be auctioned off. There's the concept of a stalking horse bid which at least sets an anchor on the valuation of the asset. So for our algorithm, just having 1 piece of data can help since instead of randomly choosing a number, it can just take that SH_bid and bid + 1. \n",
    "\n",
    "With 10 samples we may get a clearer picture of the mean, the stdevation, and range of the bids. For 100 samples it should be very clear to have the algorithm bid correctly since in the case of the class example there was 41 samples per value (disregarding one's own's bid) and it achieved an accuracy in EU calculation of up to X decimal places.\n",
    "\n"
   ]
  },
  {
   "cell_type": "code",
   "execution_count": 13,
   "id": "6fba7835",
   "metadata": {},
   "outputs": [],
   "source": [
    "v30np = bids.to_numpy().flatten()"
   ]
  },
  {
   "cell_type": "code",
   "execution_count": null,
   "id": "8b2a8d5d",
   "metadata": {},
   "outputs": [],
   "source": []
  },
  {
   "cell_type": "code",
   "execution_count": 14,
   "id": "8c66ea89",
   "metadata": {},
   "outputs": [
    {
     "data": {
      "text/plain": [
       "25"
      ]
     },
     "execution_count": 14,
     "metadata": {},
     "output_type": "execute_result"
    }
   ],
   "source": [
    "(np.random.choice(v30np, 100) < 20).sum()"
   ]
  },
  {
   "cell_type": "code",
   "execution_count": 15,
   "id": "306e8467",
   "metadata": {},
   "outputs": [],
   "source": [
    "def bid_algo(v, data, samples=10, granularity=1):\n",
    "    # from data, output a bid_v for v.\n",
    "    \n",
    "    # what does a sample look like?\n",
    "    # a cross section or 1 instance\n",
    "    # assuming samples are for the given v (or else if 1 sample and other v != my_v, then doesn't help me at all)\n",
    "#     sample_vector = data[f'v_{v}'].to_numpy()\n",
    "#     sampled_view = np.random.choice(sample_vector, samples)\n",
    "    \n",
    "    sample_vector = data.to_numpy()\n",
    "    sampled_view = np.random.choice(sample_vector.flatten(), samples)\n",
    "    \n",
    "#     print(sampled_view)\n",
    "    \n",
    "    # learn the optimal bid from data using euargmax\n",
    "    argmaxb = None\n",
    "    curmaxeu = -1\n",
    "    bidrange = np.arange(1,v, granularity)\n",
    "\n",
    "    for b in bidrange:\n",
    "        strictwin = (sampled_view < b).sum()\n",
    "        tiewin = (sampled_view == b).sum() * 0.5\n",
    "        prob_win = (strictwin + tiewin) / samples\n",
    "        gain = v-b\n",
    "        eu = prob_win*gain\n",
    "        if eu > curmaxeu:\n",
    "            curmaxeu = prob_win*gain\n",
    "            argmaxb = b\n",
    "#             print(round(b,3))\n",
    "    return round(argmaxb,3), round(curmaxeu,3)\n",
    "    "
   ]
  },
  {
   "cell_type": "code",
   "execution_count": 16,
   "id": "3d3a69c0",
   "metadata": {},
   "outputs": [
    {
     "data": {
      "text/plain": [
       "(41, 23.79)"
      ]
     },
     "execution_count": 16,
     "metadata": {},
     "output_type": "execute_result"
    }
   ],
   "source": [
    "bid_algo(80, bids, samples=100)"
   ]
  },
  {
   "cell_type": "code",
   "execution_count": null,
   "id": "c60a833e",
   "metadata": {},
   "outputs": [],
   "source": []
  },
  {
   "cell_type": "code",
   "execution_count": null,
   "id": "6531fa84",
   "metadata": {},
   "outputs": [],
   "source": []
  },
  {
   "cell_type": "code",
   "execution_count": 17,
   "id": "bca6b380",
   "metadata": {},
   "outputs": [
    {
     "name": "stdout",
     "output_type": "stream",
     "text": [
      "best bid, exp util when v=10 with 1 samples:              1 0.0\n",
      "best bid, exp util when v=10 with 10 samples:              1 0.0\n",
      "best bid, exp util when v=10 with 100 samples:              1 0.18\n",
      "best bid, exp util when v=10 with 1000 samples:              6 0.136\n",
      "\n",
      "best bid, exp util when v=20 with 1 samples:              1 0.0\n",
      "best bid, exp util when v=20 with 10 samples:              11 2.7\n",
      "best bid, exp util when v=20 with 100 samples:              11 1.665\n",
      "best bid, exp util when v=20 with 1000 samples:              11 1.755\n",
      "\n",
      "best bid, exp util when v=30 with 1 samples:              1 0.0\n",
      "best bid, exp util when v=30 with 10 samples:              21 4.5\n",
      "best bid, exp util when v=30 with 100 samples:              11 3.42\n",
      "best bid, exp util when v=30 with 1000 samples:              12 3.564\n",
      "\n",
      "best bid, exp util when v=40 with 1 samples:              1 0.0\n",
      "best bid, exp util when v=40 with 10 samples:              22 1.8\n",
      "best bid, exp util when v=40 with 100 samples:              22 5.94\n",
      "best bid, exp util when v=40 with 1000 samples:              21 5.614\n",
      "\n",
      "best bid, exp util when v=50 with 1 samples:              31 19.0\n",
      "best bid, exp util when v=50 with 10 samples:              11 11.7\n",
      "best bid, exp util when v=50 with 100 samples:              21 7.83\n",
      "best bid, exp util when v=50 with 1000 samples:              22 8.736\n",
      "\n",
      "best bid, exp util when v=60 with 1 samples:              1 0.0\n",
      "best bid, exp util when v=60 with 10 samples:              16 17.6\n",
      "best bid, exp util when v=60 with 100 samples:              31 13.775\n",
      "best bid, exp util when v=60 with 1000 samples:              31 13.369\n",
      "\n",
      "best bid, exp util when v=70 with 1 samples:              19 51.0\n",
      "best bid, exp util when v=70 with 10 samples:              32 15.2\n",
      "best bid, exp util when v=70 with 100 samples:              41 17.545\n",
      "best bid, exp util when v=70 with 1000 samples:              31 17.218\n",
      "\n",
      "best bid, exp util when v=80 with 1 samples:              12 68.0\n",
      "best bid, exp util when v=80 with 10 samples:              51 17.4\n",
      "best bid, exp util when v=80 with 100 samples:              31 22.295\n",
      "best bid, exp util when v=80 with 1000 samples:              31 22.344\n",
      "\n",
      "best bid, exp util when v=90 with 1 samples:              11 79.0\n",
      "best bid, exp util when v=90 with 10 samples:              41 29.4\n",
      "best bid, exp util when v=90 with 100 samples:              51 25.545\n",
      "best bid, exp util when v=90 with 1000 samples:              41 26.582\n",
      "\n",
      "best bid, exp util when v=100 with 1 samples:              56 44.0\n",
      "best bid, exp util when v=100 with 10 samples:              56 30.8\n",
      "best bid, exp util when v=100 with 100 samples:              46 30.24\n",
      "best bid, exp util when v=100 with 1000 samples:              42 31.842\n",
      "\n"
     ]
    }
   ],
   "source": [
    "for value in range(10,101,10):\n",
    "    for samples in [1, 10, 100, 1000]:\n",
    "        optb, eu = bid_algo(value, bids, samples=samples)\n",
    "        print(f'best bid, exp util when v={value} with {samples} samples:             ', optb, eu)\n",
    "    print('')"
   ]
  },
  {
   "cell_type": "code",
   "execution_count": null,
   "id": "34323cd8",
   "metadata": {},
   "outputs": [],
   "source": []
  }
 ],
 "metadata": {
  "kernelspec": {
   "display_name": "Python 3 (ipykernel)",
   "language": "python",
   "name": "python3"
  },
  "language_info": {
   "codemirror_mode": {
    "name": "ipython",
    "version": 3
   },
   "file_extension": ".py",
   "mimetype": "text/x-python",
   "name": "python",
   "nbconvert_exporter": "python",
   "pygments_lexer": "ipython3",
   "version": "3.9.12 | packaged by conda-forge | (main, Mar 24 2022, 23:24:38) \n[Clang 12.0.1 ]"
  },
  "vscode": {
   "interpreter": {
    "hash": "4e2aa476f531615f6d9ec123f4abfe65bf1f631e8a4db641ad0dab3bdccee503"
   }
  }
 },
 "nbformat": 4,
 "nbformat_minor": 5
}
